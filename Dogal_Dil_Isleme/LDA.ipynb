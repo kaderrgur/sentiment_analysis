{
 "cells": [
  {
   "cell_type": "markdown",
   "metadata": {
    "id": "cGvQzA0P-PNj"
   },
   "source": [
    "DOĞAL DİL İŞLEME - LDA ÖRNEĞİ"
   ]
  },
  {
   "cell_type": "markdown",
   "metadata": {
    "id": "wXIHYutf-V2K"
   },
   "source": [
    "Gerekli Kurulumlar"
   ]
  },
  {
   "cell_type": "code",
   "execution_count": 1,
   "metadata": {
    "colab": {
     "base_uri": "https://localhost:8080/"
    },
    "executionInfo": {
     "elapsed": 26256,
     "status": "ok",
     "timestamp": 1616527952941,
     "user": {
      "displayName": "Kader GÜR",
      "photoUrl": "",
      "userId": "14784962338010090553"
     },
     "user_tz": -180
    },
    "id": "GRD67I9y9nnp",
    "outputId": "7028fc41-80d2-47a8-ae5d-192e940fb5d2"
   },
   "outputs": [
    {
     "name": "stdout",
     "output_type": "stream",
     "text": [
      "Mounted at /gdrive\n",
      "/gdrive\n"
     ]
    }
   ],
   "source": [
    "from google.colab import drive\n",
    "drive.mount('/gdrive')\n",
    "%cd /gdrive"
   ]
  },
  {
   "cell_type": "code",
   "execution_count": 2,
   "metadata": {
    "executionInfo": {
     "elapsed": 694,
     "status": "ok",
     "timestamp": 1616527955527,
     "user": {
      "displayName": "Kader GÜR",
      "photoUrl": "",
      "userId": "14784962338010090553"
     },
     "user_tz": -180
    },
    "id": "660vK6HDBJLR"
   },
   "outputs": [],
   "source": [
    "import os\n",
    "\n",
    "os.chdir('/gdrive/My Drive/Dogal_Dil_Isleme/')"
   ]
  },
  {
   "cell_type": "code",
   "execution_count": 3,
   "metadata": {
    "colab": {
     "base_uri": "https://localhost:8080/"
    },
    "executionInfo": {
     "elapsed": 678,
     "status": "ok",
     "timestamp": 1616527956749,
     "user": {
      "displayName": "Kader GÜR",
      "photoUrl": "",
      "userId": "14784962338010090553"
     },
     "user_tz": -180
    },
    "id": "wOhHsCuLBMPu",
    "outputId": "e575554e-86d4-4cdf-8d8e-1b2be43e249f"
   },
   "outputs": [
    {
     "name": "stdout",
     "output_type": "stream",
     "text": [
      "data  Hissiyat_Analizi.ipynb  LDA.ipynb\n"
     ]
    }
   ],
   "source": [
    "!ls"
   ]
  },
  {
   "cell_type": "markdown",
   "metadata": {
    "id": "xeaV05CU-iDQ"
   },
   "source": [
    "Veri Setini Yükleme"
   ]
  },
  {
   "cell_type": "code",
   "execution_count": 4,
   "metadata": {
    "executionInfo": {
     "elapsed": 575,
     "status": "ok",
     "timestamp": 1616527960372,
     "user": {
      "displayName": "Kader GÜR",
      "photoUrl": "",
      "userId": "14784962338010090553"
     },
     "user_tz": -180
    },
    "id": "O57bXNld-Ouz"
   },
   "outputs": [],
   "source": [
    "import numpy as np\n",
    "import pandas as pd"
   ]
  },
  {
   "cell_type": "code",
   "execution_count": 5,
   "metadata": {
    "colab": {
     "base_uri": "https://localhost:8080/"
    },
    "executionInfo": {
     "elapsed": 7206,
     "status": "ok",
     "timestamp": 1616527968103,
     "user": {
      "displayName": "Kader GÜR",
      "photoUrl": "",
      "userId": "14784962338010090553"
     },
     "user_tz": -180
    },
    "id": "btKXqt0YBQlH",
    "outputId": "d6def3e7-c733-4bcc-9862-56843a3f0b52"
   },
   "outputs": [
    {
     "data": {
      "text/plain": [
       "(72109, 7)"
      ]
     },
     "execution_count": 5,
     "metadata": {
      "tags": []
     },
     "output_type": "execute_result"
    }
   ],
   "source": [
    "root = '/gdrive/My Drive/Dogal_Dil_Isleme/'\n",
    "\n",
    "df = pd.read_csv(root + 'data/archive/turkish_news_70000.csv')\n",
    "df.shape"
   ]
  },
  {
   "cell_type": "code",
   "execution_count": 6,
   "metadata": {
    "colab": {
     "base_uri": "https://localhost:8080/",
     "height": 289
    },
    "executionInfo": {
     "elapsed": 590,
     "status": "ok",
     "timestamp": 1616527969488,
     "user": {
      "displayName": "Kader GÜR",
      "photoUrl": "",
      "userId": "14784962338010090553"
     },
     "user_tz": -180
    },
    "id": "NMaPJ4E9Bhko",
    "outputId": "86a41b6f-f474-4147-e6ce-f33b59887620"
   },
   "outputs": [
    {
     "data": {
      "text/html": [
       "<div>\n",
       "<style scoped>\n",
       "    .dataframe tbody tr th:only-of-type {\n",
       "        vertical-align: middle;\n",
       "    }\n",
       "\n",
       "    .dataframe tbody tr th {\n",
       "        vertical-align: top;\n",
       "    }\n",
       "\n",
       "    .dataframe thead th {\n",
       "        text-align: right;\n",
       "    }\n",
       "</style>\n",
       "<table border=\"1\" class=\"dataframe\">\n",
       "  <thead>\n",
       "    <tr style=\"text-align: right;\">\n",
       "      <th></th>\n",
       "      <th>id</th>\n",
       "      <th>main_image</th>\n",
       "      <th>published</th>\n",
       "      <th>site</th>\n",
       "      <th>text</th>\n",
       "      <th>title</th>\n",
       "      <th>url</th>\n",
       "    </tr>\n",
       "  </thead>\n",
       "  <tbody>\n",
       "    <tr>\n",
       "      <th>0</th>\n",
       "      <td>72337</td>\n",
       "      <td>\"http://www.diken.com.tr/wp-content/uploads/20...</td>\n",
       "      <td>\"2019-03-04T13:33:00.000+02:00\"</td>\n",
       "      <td>\"diken.com.tr\"</td>\n",
       "      <td>\"Yatırım bankası: Dolar/TL üçüncü çeyrekte 8.9...</td>\n",
       "      <td>\"Yatırım bankası: Dolar/TL üçüncü çeyrekte 8.9...</td>\n",
       "      <td>\"http://www.diken.com.tr/yatirim-bankasi-dolar...</td>\n",
       "    </tr>\n",
       "    <tr>\n",
       "      <th>1</th>\n",
       "      <td>72338</td>\n",
       "      <td>\"http://www.diken.com.tr/wp-content/uploads/20...</td>\n",
       "      <td>\"2019-03-04T13:21:00.000+02:00\"</td>\n",
       "      <td>\"diken.com.tr\"</td>\n",
       "      <td>\"PİAR Araştırma: Adana ve Antalya’da ‘millet i...</td>\n",
       "      <td>\"PİAR Araştırma: Adana ve Antalya’da ‘millet i...</td>\n",
       "      <td>\"http://www.diken.com.tr/piar-arastirma-adana-...</td>\n",
       "    </tr>\n",
       "    <tr>\n",
       "      <th>2</th>\n",
       "      <td>72339</td>\n",
       "      <td>\"http://www.diken.com.tr/wp-content/uploads/20...</td>\n",
       "      <td>\"2019-03-04T12:20:00.000+02:00\"</td>\n",
       "      <td>\"diken.com.tr\"</td>\n",
       "      <td>\"Renaissance Capital: Merkez Bankası bu hafta ...</td>\n",
       "      <td>\"Renaissance Capital: Merkez Bankası bu hafta ...</td>\n",
       "      <td>\"http://www.diken.com.tr/renaissance-capital-m...</td>\n",
       "    </tr>\n",
       "    <tr>\n",
       "      <th>3</th>\n",
       "      <td>72340</td>\n",
       "      <td>\"http://www.diken.com.tr/wp-content/uploads/20...</td>\n",
       "      <td>\"2019-03-04T11:53:00.000+02:00\"</td>\n",
       "      <td>\"diken.com.tr\"</td>\n",
       "      <td>\"Ağrı’daki İYİ Partililerin istifa gerekçesi: ...</td>\n",
       "      <td>\"Ağrı’daki İYİ Partililerin istifa gerekçesi: ...</td>\n",
       "      <td>\"http://www.diken.com.tr/agridaki-iyi-partilil...</td>\n",
       "    </tr>\n",
       "    <tr>\n",
       "      <th>4</th>\n",
       "      <td>72341</td>\n",
       "      <td>\"http://www.diken.com.tr/wp-content/uploads/20...</td>\n",
       "      <td>\"2019-03-04T11:52:00.000+02:00\"</td>\n",
       "      <td>\"diken.com.tr\"</td>\n",
       "      <td>\"Otomobil pazarı iki ayda yarı yarıya eridi 04...</td>\n",
       "      <td>\"Otomobil pazarı iki ayda yarı yarıya eridi\"</td>\n",
       "      <td>\"http://www.diken.com.tr/otomobil-pazari-iki-a...</td>\n",
       "    </tr>\n",
       "  </tbody>\n",
       "</table>\n",
       "</div>"
      ],
      "text/plain": [
       "      id  ...                                                url\n",
       "0  72337  ...  \"http://www.diken.com.tr/yatirim-bankasi-dolar...\n",
       "1  72338  ...  \"http://www.diken.com.tr/piar-arastirma-adana-...\n",
       "2  72339  ...  \"http://www.diken.com.tr/renaissance-capital-m...\n",
       "3  72340  ...  \"http://www.diken.com.tr/agridaki-iyi-partilil...\n",
       "4  72341  ...  \"http://www.diken.com.tr/otomobil-pazari-iki-a...\n",
       "\n",
       "[5 rows x 7 columns]"
      ]
     },
     "execution_count": 6,
     "metadata": {
      "tags": []
     },
     "output_type": "execute_result"
    }
   ],
   "source": [
    "df.head()"
   ]
  },
  {
   "cell_type": "markdown",
   "metadata": {
    "id": "qOJh3dZ8C9FZ"
   },
   "source": [
    "Veri Hazırlama ve Temizleme"
   ]
  },
  {
   "cell_type": "code",
   "execution_count": 7,
   "metadata": {
    "colab": {
     "base_uri": "https://localhost:8080/",
     "height": 142
    },
    "executionInfo": {
     "elapsed": 515,
     "status": "ok",
     "timestamp": 1616527973194,
     "user": {
      "displayName": "Kader GÜR",
      "photoUrl": "",
      "userId": "14784962338010090553"
     },
     "user_tz": -180
    },
    "id": "EDN12UFQCJ_f",
    "outputId": "bd47dbbb-d4ad-4fb8-86f9-096eb2937d41"
   },
   "outputs": [
    {
     "data": {
      "text/html": [
       "<div>\n",
       "<style scoped>\n",
       "    .dataframe tbody tr th:only-of-type {\n",
       "        vertical-align: middle;\n",
       "    }\n",
       "\n",
       "    .dataframe tbody tr th {\n",
       "        vertical-align: top;\n",
       "    }\n",
       "\n",
       "    .dataframe thead th {\n",
       "        text-align: right;\n",
       "    }\n",
       "</style>\n",
       "<table border=\"1\" class=\"dataframe\">\n",
       "  <thead>\n",
       "    <tr style=\"text-align: right;\">\n",
       "      <th></th>\n",
       "      <th>text</th>\n",
       "    </tr>\n",
       "  </thead>\n",
       "  <tbody>\n",
       "    <tr>\n",
       "      <th>0</th>\n",
       "      <td>\"Yatırım bankası: Dolar/TL üçüncü çeyrekte 8.9...</td>\n",
       "    </tr>\n",
       "    <tr>\n",
       "      <th>1</th>\n",
       "      <td>\"PİAR Araştırma: Adana ve Antalya’da ‘millet i...</td>\n",
       "    </tr>\n",
       "    <tr>\n",
       "      <th>2</th>\n",
       "      <td>\"Renaissance Capital: Merkez Bankası bu hafta ...</td>\n",
       "    </tr>\n",
       "  </tbody>\n",
       "</table>\n",
       "</div>"
      ],
      "text/plain": [
       "                                                text\n",
       "0  \"Yatırım bankası: Dolar/TL üçüncü çeyrekte 8.9...\n",
       "1  \"PİAR Araştırma: Adana ve Antalya’da ‘millet i...\n",
       "2  \"Renaissance Capital: Merkez Bankası bu hafta ..."
      ]
     },
     "execution_count": 7,
     "metadata": {
      "tags": []
     },
     "output_type": "execute_result"
    }
   ],
   "source": [
    "haber_veriseti = df[[\"text\"]]\n",
    "haber_veriseti.head(3)\n",
    "\n",
    "# LDA modelinde sadece 'text' sütununu kullanacağız"
   ]
  },
  {
   "cell_type": "code",
   "execution_count": 8,
   "metadata": {
    "colab": {
     "base_uri": "https://localhost:8080/"
    },
    "executionInfo": {
     "elapsed": 1717,
     "status": "ok",
     "timestamp": 1616527975730,
     "user": {
      "displayName": "Kader GÜR",
      "photoUrl": "",
      "userId": "14784962338010090553"
     },
     "user_tz": -180
    },
    "id": "MomOZRzhKBxC",
    "outputId": "78fa8bcf-37a2-4762-feeb-4d4748fb0506"
   },
   "outputs": [
    {
     "name": "stdout",
     "output_type": "stream",
     "text": [
      "[nltk_data] Downloading package stopwords to /root/nltk_data...\n",
      "[nltk_data]   Unzipping corpora/stopwords.zip.\n"
     ]
    },
    {
     "data": {
      "text/plain": [
       "True"
      ]
     },
     "execution_count": 8,
     "metadata": {
      "tags": []
     },
     "output_type": "execute_result"
    }
   ],
   "source": [
    "import nltk\n",
    "nltk.download(\"stopwords\")"
   ]
  },
  {
   "cell_type": "code",
   "execution_count": 13,
   "metadata": {
    "executionInfo": {
     "elapsed": 579,
     "status": "ok",
     "timestamp": 1616528150679,
     "user": {
      "displayName": "Kader GÜR",
      "photoUrl": "",
      "userId": "14784962338010090553"
     },
     "user_tz": -180
    },
    "id": "iynWuN74ClvS"
   },
   "outputs": [],
   "source": [
    "# VERİ TEMİZLEME İŞLEMİ\n",
    "\n",
    "import re\n",
    "import string\n",
    "import nltk\n",
    "from nltk.corpus import stopwords\n",
    "\n",
    "noktalama_isaretleri_kumesi = string.punctuation\n",
    "etkisiz_kelimeler_kumesi = stopwords.words(\"turkish\")\n",
    "etkisiz_kelimeler_kumesi.extend ([\"bir\", \"kadar\", \"sonra\"])\n",
    "metin=haber_veriseti[\"text\"]\n",
    "\n",
    "def veri_temizleme(metin):\n",
    "  metin = metin.lower() #tüm harfler küçük duruma getirildi\n",
    "  metin = metin.replace(\"\\\\n\", \" \") #yeni satır karakterleri boşlık karakterleriyle değiştirildi\n",
    "  metin = re.sub(\"’(\\w+)\", \"\", metin) #kesme işaretinden sonraki karakterlerin kaldırılması\n",
    "  metin = re.sub(\"'(\\w+)\", \"\", metin)\n",
    "  metin = re.sub(\"[“,‘,’,”]\", \"\", metin)\n",
    "  metin = re.sub(\"[0-9]+\", \"\", metin) #sayıların kaldırılması\n",
    "  metin = \"\".join(list(map(lambda x:x if x not in noktalama_isaretleri_kumesi else \" \", metin))) #noktalama işaretlerinin kaldırılması\n",
    "  metin = \" \".join([i for i in metin.split() if i not in etkisiz_kelimeler_kumesi]) #etkisiz kelimelerin bir kısmının kaldırılması\n",
    "  metin = \" \".join([i for i in metin.split() if len(i) > 1]) #metinde kalan harfleri çıkartma\n",
    "\n",
    "  return metin\n",
    "\n",
    "\n"
   ]
  },
  {
   "cell_type": "code",
   "execution_count": 15,
   "metadata": {
    "colab": {
     "base_uri": "https://localhost:8080/",
     "height": 129
    },
    "executionInfo": {
     "elapsed": 569,
     "status": "error",
     "timestamp": 1616528178484,
     "user": {
      "displayName": "Kader GÜR",
      "photoUrl": "",
      "userId": "14784962338010090553"
     },
     "user_tz": -180
    },
    "id": "XP1uX6oFk4lq",
    "outputId": "df52e965-9048-4496-ab0c-7b43e3036ee8"
   },
   "outputs": [
    {
     "ename": "SyntaxError",
     "evalue": "ignored",
     "output_type": "error",
     "traceback": [
      "\u001b[0;36m  File \u001b[0;32m\"<ipython-input-15-d4cd4d1c27b1>\"\u001b[0;36m, line \u001b[0;32m1\u001b[0m\n\u001b[0;31m    haber_veriseti[\"text\"].translate(metin) = haber_veriseti[\"temizlenen_metin\"]\u001b[0m\n\u001b[0m                                                                                ^\u001b[0m\n\u001b[0;31mSyntaxError\u001b[0m\u001b[0;31m:\u001b[0m can't assign to function call\n"
     ]
    }
   ],
   "source": [
    "haber_veriseti[\"text\"].translate(metin) = haber_veriseti[\"temizlenen_metin\"]\n",
    "haber_veriseti.head(3)"
   ]
  },
  {
   "cell_type": "code",
   "execution_count": null,
   "metadata": {
    "colab": {
     "base_uri": "https://localhost:8080/",
     "height": 244
    },
    "executionInfo": {
     "elapsed": 604,
     "status": "ok",
     "timestamp": 1615717367521,
     "user": {
      "displayName": "Kader GÜR",
      "photoUrl": "",
      "userId": "14784962338010090553"
     },
     "user_tz": -180
    },
    "id": "-tRnCqVDKqD6",
    "outputId": "8b485642-e5d3-4adc-99bb-562f29e28c58"
   },
   "outputs": [
    {
     "name": "stderr",
     "output_type": "stream",
     "text": [
      "/usr/local/lib/python3.7/dist-packages/ipykernel_launcher.py:1: SettingWithCopyWarning: \n",
      "A value is trying to be set on a copy of a slice from a DataFrame.\n",
      "Try using .loc[row_indexer,col_indexer] = value instead\n",
      "\n",
      "See the caveats in the documentation: https://pandas.pydata.org/pandas-docs/stable/user_guide/indexing.html#returning-a-view-versus-a-copy\n",
      "  \"\"\"Entry point for launching an IPython kernel.\n"
     ]
    },
    {
     "data": {
      "text/html": [
       "<div>\n",
       "<style scoped>\n",
       "    .dataframe tbody tr th:only-of-type {\n",
       "        vertical-align: middle;\n",
       "    }\n",
       "\n",
       "    .dataframe tbody tr th {\n",
       "        vertical-align: top;\n",
       "    }\n",
       "\n",
       "    .dataframe thead th {\n",
       "        text-align: right;\n",
       "    }\n",
       "</style>\n",
       "<table border=\"1\" class=\"dataframe\">\n",
       "  <thead>\n",
       "    <tr style=\"text-align: right;\">\n",
       "      <th></th>\n",
       "      <th>text</th>\n",
       "      <th>temizlenen_metin</th>\n",
       "    </tr>\n",
       "  </thead>\n",
       "  <tbody>\n",
       "    <tr>\n",
       "      <th>0</th>\n",
       "      <td>\"Yatırım bankası: Dolar/TL üçüncü çeyrekte 8.9...</td>\n",
       "      <td>\"Yatırım bankası: Dolar/TL üçüncü çeyrekte 8.9...</td>\n",
       "    </tr>\n",
       "    <tr>\n",
       "      <th>1</th>\n",
       "      <td>\"PİAR Araştırma: Adana ve Antalya’da ‘millet i...</td>\n",
       "      <td>\"PİAR Araştırma: Adana ve Antalya’da ‘millet i...</td>\n",
       "    </tr>\n",
       "    <tr>\n",
       "      <th>2</th>\n",
       "      <td>\"Renaissance Capital: Merkez Bankası bu hafta ...</td>\n",
       "      <td>\"Renaissance Capital: Merkez Bankası bu hafta ...</td>\n",
       "    </tr>\n",
       "  </tbody>\n",
       "</table>\n",
       "</div>"
      ],
      "text/plain": [
       "                                                text                                   temizlenen_metin\n",
       "0  \"Yatırım bankası: Dolar/TL üçüncü çeyrekte 8.9...  \"Yatırım bankası: Dolar/TL üçüncü çeyrekte 8.9...\n",
       "1  \"PİAR Araştırma: Adana ve Antalya’da ‘millet i...  \"PİAR Araştırma: Adana ve Antalya’da ‘millet i...\n",
       "2  \"Renaissance Capital: Merkez Bankası bu hafta ...  \"Renaissance Capital: Merkez Bankası bu hafta ..."
      ]
     },
     "execution_count": 18,
     "metadata": {
      "tags": []
     },
     "output_type": "execute_result"
    }
   ],
   "source": [
    "haber_veriseti[\"temizlenen_metin\"] = haber_veriseti[\"text\"]\n",
    "haber_veriseti.head(3)"
   ]
  },
  {
   "cell_type": "code",
   "execution_count": null,
   "metadata": {
    "id": "gUfs-m7fOH39"
   },
   "outputs": [],
   "source": []
  }
 ],
 "metadata": {
  "accelerator": "GPU",
  "colab": {
   "authorship_tag": "ABX9TyOTLMW4B493lQ5D64O2AhIa",
   "collapsed_sections": [],
   "name": "LDA.ipynb",
   "provenance": []
  },
  "kernelspec": {
   "display_name": "Python 3",
   "language": "python",
   "name": "python3"
  },
  "language_info": {
   "codemirror_mode": {
    "name": "ipython",
    "version": 3
   },
   "file_extension": ".py",
   "mimetype": "text/x-python",
   "name": "python",
   "nbconvert_exporter": "python",
   "pygments_lexer": "ipython3",
   "version": "3.8.5"
  }
 },
 "nbformat": 4,
 "nbformat_minor": 1
}
