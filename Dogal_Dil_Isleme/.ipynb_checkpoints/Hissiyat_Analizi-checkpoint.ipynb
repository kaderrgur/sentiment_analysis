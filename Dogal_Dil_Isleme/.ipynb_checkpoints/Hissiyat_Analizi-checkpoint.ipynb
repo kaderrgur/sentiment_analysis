{
 "cells": [
  {
   "cell_type": "code",
   "execution_count": 1,
   "metadata": {
    "colab": {
     "base_uri": "https://localhost:8080/"
    },
    "executionInfo": {
     "elapsed": 17236,
     "status": "ok",
     "timestamp": 1616527889212,
     "user": {
      "displayName": "Kader GÜR",
      "photoUrl": "",
      "userId": "14784962338010090553"
     },
     "user_tz": -180
    },
    "id": "t_aR1VsWkS6V",
    "outputId": "3897ddaf-a207-483f-9d24-cad48831d146"
   },
   "outputs": [
    {
     "name": "stdout",
     "output_type": "stream",
     "text": [
      "Mounted at /gdrive\n",
      "/gdrive\n"
     ]
    }
   ],
   "source": [
    "from google.colab import drive\n",
    "drive.mount('/gdrive')\n",
    "%cd /gdrive"
   ]
  },
  {
   "cell_type": "code",
   "execution_count": 2,
   "metadata": {
    "executionInfo": {
     "elapsed": 588,
     "status": "ok",
     "timestamp": 1616527893799,
     "user": {
      "displayName": "Kader GÜR",
      "photoUrl": "",
      "userId": "14784962338010090553"
     },
     "user_tz": -180
    },
    "id": "SRH-DONzlG-W"
   },
   "outputs": [],
   "source": [
    "import os\n",
    "os.chdir('/gdrive/My Drive/Dogal_Dil_Isleme/')"
   ]
  },
  {
   "cell_type": "code",
   "execution_count": 3,
   "metadata": {
    "colab": {
     "base_uri": "https://localhost:8080/"
    },
    "executionInfo": {
     "elapsed": 723,
     "status": "ok",
     "timestamp": 1616527895120,
     "user": {
      "displayName": "Kader GÜR",
      "photoUrl": "",
      "userId": "14784962338010090553"
     },
     "user_tz": -180
    },
    "id": "P6NWZpGTlRpH",
    "outputId": "fcfe6a60-bc99-4891-946f-bc7068f6aa2e"
   },
   "outputs": [
    {
     "name": "stdout",
     "output_type": "stream",
     "text": [
      "data  Hissiyat_Analizi.ipynb  LDA.ipynb\n"
     ]
    }
   ],
   "source": [
    "!ls"
   ]
  },
  {
   "cell_type": "code",
   "execution_count": 4,
   "metadata": {
    "colab": {
     "base_uri": "https://localhost:8080/"
    },
    "executionInfo": {
     "elapsed": 4579,
     "status": "ok",
     "timestamp": 1616527900280,
     "user": {
      "displayName": "Kader GÜR",
      "photoUrl": "",
      "userId": "14784962338010090553"
     },
     "user_tz": -180
    },
    "id": "4Xf-BVOFo5ZP",
    "outputId": "9452faf8-3bcb-4da5-cfee-e21d9afd660a"
   },
   "outputs": [
    {
     "name": "stdout",
     "output_type": "stream",
     "text": [
      "Collecting colab-a11y-utils\n",
      "  Downloading https://files.pythonhosted.org/packages/6b/07/4bae363adf975e114ed8f406cdf2c574490cb36a2d87084b067d2c305f58/colab-a11y-utils-0.0.4.tar.gz\n",
      "Collecting pydub\n",
      "  Downloading https://files.pythonhosted.org/packages/a6/53/d78dc063216e62fc55f6b2eebb447f6a4b0a59f55c8406376f76bf959b08/pydub-0.25.1-py2.py3-none-any.whl\n",
      "Requirement already satisfied: ipython in /usr/local/lib/python3.7/dist-packages (from colab-a11y-utils) (5.5.0)\n",
      "Requirement already satisfied: tqdm in /usr/local/lib/python3.7/dist-packages (from colab-a11y-utils) (4.41.1)\n",
      "Requirement already satisfied: traitlets>=4.2 in /usr/local/lib/python3.7/dist-packages (from ipython->colab-a11y-utils) (5.0.5)\n",
      "Requirement already satisfied: pygments in /usr/local/lib/python3.7/dist-packages (from ipython->colab-a11y-utils) (2.6.1)\n",
      "Requirement already satisfied: setuptools>=18.5 in /usr/local/lib/python3.7/dist-packages (from ipython->colab-a11y-utils) (54.1.2)\n",
      "Requirement already satisfied: prompt-toolkit<2.0.0,>=1.0.4 in /usr/local/lib/python3.7/dist-packages (from ipython->colab-a11y-utils) (1.0.18)\n",
      "Requirement already satisfied: pickleshare in /usr/local/lib/python3.7/dist-packages (from ipython->colab-a11y-utils) (0.7.5)\n",
      "Requirement already satisfied: simplegeneric>0.8 in /usr/local/lib/python3.7/dist-packages (from ipython->colab-a11y-utils) (0.8.1)\n",
      "Requirement already satisfied: pexpect; sys_platform != \"win32\" in /usr/local/lib/python3.7/dist-packages (from ipython->colab-a11y-utils) (4.8.0)\n",
      "Requirement already satisfied: decorator in /usr/local/lib/python3.7/dist-packages (from ipython->colab-a11y-utils) (4.4.2)\n",
      "Requirement already satisfied: ipython-genutils in /usr/local/lib/python3.7/dist-packages (from traitlets>=4.2->ipython->colab-a11y-utils) (0.2.0)\n",
      "Requirement already satisfied: six>=1.9.0 in /usr/local/lib/python3.7/dist-packages (from prompt-toolkit<2.0.0,>=1.0.4->ipython->colab-a11y-utils) (1.15.0)\n",
      "Requirement already satisfied: wcwidth in /usr/local/lib/python3.7/dist-packages (from prompt-toolkit<2.0.0,>=1.0.4->ipython->colab-a11y-utils) (0.2.5)\n",
      "Requirement already satisfied: ptyprocess>=0.5 in /usr/local/lib/python3.7/dist-packages (from pexpect; sys_platform != \"win32\"->ipython->colab-a11y-utils) (0.7.0)\n",
      "Building wheels for collected packages: colab-a11y-utils\n",
      "  Building wheel for colab-a11y-utils (setup.py) ... \u001b[?25l\u001b[?25hdone\n",
      "  Created wheel for colab-a11y-utils: filename=colab_a11y_utils-0.0.4-cp37-none-any.whl size=3100 sha256=a3953ddf703e5bc170cff29b6378a4ddb0f528d63da1071c92df536dd09a3931\n",
      "  Stored in directory: /root/.cache/pip/wheels/88/5e/f0/867a4bfdd0404ae73d1f00eb1822f9b49d4b46a13550ead07f\n",
      "Successfully built colab-a11y-utils\n",
      "Installing collected packages: pydub, colab-a11y-utils\n",
      "Successfully installed colab-a11y-utils-0.0.4 pydub-0.25.1\n"
     ]
    }
   ],
   "source": [
    "!pip install colab-a11y-utils"
   ]
  },
  {
   "cell_type": "code",
   "execution_count": null,
   "metadata": {
    "id": "djDqZkLkqzzM"
   },
   "outputs": [],
   "source": [
    "!install pip\n",
    "!pip install utils\n",
    "import utils"
   ]
  },
  {
   "cell_type": "code",
   "execution_count": null,
   "metadata": {
    "colab": {
     "base_uri": "https://localhost:8080/",
     "height": 367
    },
    "executionInfo": {
     "elapsed": 1780,
     "status": "error",
     "timestamp": 1616093414440,
     "user": {
      "displayName": "Kader GÜR",
      "photoUrl": "",
      "userId": "14784962338010090553"
     },
     "user_tz": -180
    },
    "id": "Y7aWBCCWlT7C",
    "outputId": "079de17e-6cfa-413a-eca2-71830aad3474"
   },
   "outputs": [
    {
     "ename": "ImportError",
     "evalue": "ignored",
     "output_type": "error",
     "traceback": [
      "\u001b[0;31m---------------------------------------------------------------------------\u001b[0m",
      "\u001b[0;31mImportError\u001b[0m                               Traceback (most recent call last)",
      "\u001b[0;32m<ipython-input-2-69557a6cb8f4>\u001b[0m in \u001b[0;36m<module>\u001b[0;34m()\u001b[0m\n\u001b[1;32m      1\u001b[0m \u001b[0;32mfrom\u001b[0m \u001b[0msklearn\u001b[0m\u001b[0;34m.\u001b[0m\u001b[0mneural_network\u001b[0m \u001b[0;32mimport\u001b[0m \u001b[0mMLPClassifier\u001b[0m\u001b[0;34m\u001b[0m\u001b[0;34m\u001b[0m\u001b[0m\n\u001b[1;32m      2\u001b[0m \u001b[0;32mfrom\u001b[0m \u001b[0msklearn\u001b[0m\u001b[0;34m.\u001b[0m\u001b[0msvm\u001b[0m \u001b[0;32mimport\u001b[0m \u001b[0mSVC\u001b[0m\u001b[0;34m\u001b[0m\u001b[0;34m\u001b[0m\u001b[0m\n\u001b[0;32m----> 3\u001b[0;31m \u001b[0;32mfrom\u001b[0m \u001b[0mutils\u001b[0m \u001b[0;32mimport\u001b[0m \u001b[0mdisplay_pca_scatterplot\u001b[0m\u001b[0;34m,\u001b[0m \u001b[0mgrid_search\u001b[0m\u001b[0;34m\u001b[0m\u001b[0;34m\u001b[0m\u001b[0m\n\u001b[0m\u001b[1;32m      4\u001b[0m \u001b[0;32mimport\u001b[0m \u001b[0mjson\u001b[0m\u001b[0;34m\u001b[0m\u001b[0;34m\u001b[0m\u001b[0m\n\u001b[1;32m      5\u001b[0m \u001b[0;32mimport\u001b[0m \u001b[0mpandas\u001b[0m \u001b[0;32mas\u001b[0m \u001b[0mpd\u001b[0m\u001b[0;34m\u001b[0m\u001b[0;34m\u001b[0m\u001b[0m\n",
      "\u001b[0;31mImportError\u001b[0m: cannot import name 'display_pca_scatterplot' from 'utils' (/usr/local/lib/python3.7/dist-packages/utils/__init__.py)",
      "",
      "\u001b[0;31m---------------------------------------------------------------------------\u001b[0;32m\nNOTE: If your import is failing due to a missing package, you can\nmanually install dependencies using either !pip or !apt.\n\nTo view examples of installing some common dependencies, click the\n\"Open Examples\" button below.\n\u001b[0;31m---------------------------------------------------------------------------\u001b[0m\n"
     ]
    }
   ],
   "source": [
    "from sklearn.neural_network import MLPClassifier\n",
    "from sklearn.svm import SVC\n",
    "from utils import display_pca_scatterplot, grid_search\n",
    "import json\n",
    "import pandas as pd\n",
    "import random\n",
    "from sklearn.metrics import f1_score\n",
    "from spacy.tokenizer import Tokenizer\n",
    "from spacy.lang.tr import Turkish\n",
    "import numpy as np\n",
    "import warnings\n",
    "from tqdm import tqdm\n",
    "warnings.filterwarnings('ignore')"
   ]
  },
  {
   "cell_type": "code",
   "execution_count": null,
   "metadata": {
    "id": "SyNfdRcRoUR4"
   },
   "outputs": [],
   "source": []
  }
 ],
 "metadata": {
  "accelerator": "GPU",
  "colab": {
   "authorship_tag": "ABX9TyOUKgtEI5YYjzVglSX8NcnM",
   "collapsed_sections": [],
   "name": "Hissiyat_Analizi.ipynb",
   "provenance": []
  },
  "kernelspec": {
   "display_name": "Python 3",
   "language": "python",
   "name": "python3"
  },
  "language_info": {
   "codemirror_mode": {
    "name": "ipython",
    "version": 3
   },
   "file_extension": ".py",
   "mimetype": "text/x-python",
   "name": "python",
   "nbconvert_exporter": "python",
   "pygments_lexer": "ipython3",
   "version": "3.8.5"
  }
 },
 "nbformat": 4,
 "nbformat_minor": 1
}
